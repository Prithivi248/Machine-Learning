{
  "cells": [
    {
      "cell_type": "markdown",
      "metadata": {
        "id": "aTIfjWZj_x9K"
      },
      "source": [
        "# Linear models: Classification\n",
        "\n",
        "**Name:** Prithivi Raaj K\n",
        "\n",
        "**RollNo:** 21z238"
      ]
    },
    {
      "cell_type": "markdown",
      "source": [
        "**Importing the libraries**"
      ],
      "metadata": {
        "id": "oM3jwdI0F4ru"
      }
    },
    {
      "cell_type": "code",
      "execution_count": 119,
      "metadata": {
        "id": "baai_uAZ9rPx"
      },
      "outputs": [],
      "source": [
        "import numpy as np\n",
        "import pandas as pd\n",
        "import matplotlib.pyplot as plt\n",
        "from scipy import stats\n",
        "import seaborn as sns\n",
        "from sklearn.preprocessing import LabelEncoder\n",
        "from sklearn.model_selection import train_test_split, cross_val_score, GridSearchCV\n",
        "from sklearn.linear_model import LogisticRegression\n",
        "from sklearn.metrics import confusion_matrix , accuracy_score\n",
        "from sklearn.metrics import classification_report, roc_curve, roc_auc_score\n",
        "from imblearn.over_sampling import RandomOverSampler\n",
        "from sklearn.naive_bayes import GaussianNB\n",
        "from sklearn.exceptions import ConvergenceWarning"
      ]
    },
    {
      "cell_type": "markdown",
      "metadata": {
        "id": "rrDkw6WCY_gT"
      },
      "source": [
        "# Data Preprocessing"
      ]
    },
    {
      "cell_type": "markdown",
      "metadata": {
        "id": "ChF0R_CTRgt2"
      },
      "source": [
        "**Loading the dataset**"
      ]
    },
    {
      "cell_type": "code",
      "execution_count": 120,
      "metadata": {
        "colab": {
          "base_uri": "https://localhost:8080/",
          "height": 342
        },
        "id": "qZ-9k1jw-f0h",
        "outputId": "20412f13-9c61-4329-e077-4ff56411a5d7"
      },
      "outputs": [
        {
          "output_type": "execute_result",
          "data": {
            "text/plain": [
              "         Date Location  MinTemp  MaxTemp  Rainfall  Evaporation  Sunshine  \\\n",
              "0  2008-12-01   Albury     13.4     22.9       0.6          NaN       NaN   \n",
              "1  2008-12-02   Albury      7.4     25.1       0.0          NaN       NaN   \n",
              "2  2008-12-03   Albury     12.9     25.7       0.0          NaN       NaN   \n",
              "3  2008-12-04   Albury      9.2     28.0       0.0          NaN       NaN   \n",
              "4  2008-12-05   Albury     17.5     32.3       1.0          NaN       NaN   \n",
              "\n",
              "  WindGustDir  WindGustSpeed WindDir9am  ... Humidity9am  Humidity3pm  \\\n",
              "0           W           44.0          W  ...        71.0         22.0   \n",
              "1         WNW           44.0        NNW  ...        44.0         25.0   \n",
              "2         WSW           46.0          W  ...        38.0         30.0   \n",
              "3          NE           24.0         SE  ...        45.0         16.0   \n",
              "4           W           41.0        ENE  ...        82.0         33.0   \n",
              "\n",
              "   Pressure9am  Pressure3pm  Cloud9am  Cloud3pm  Temp9am  Temp3pm  RainToday  \\\n",
              "0       1007.7       1007.1       8.0       NaN     16.9     21.8         No   \n",
              "1       1010.6       1007.8       NaN       NaN     17.2     24.3         No   \n",
              "2       1007.6       1008.7       NaN       2.0     21.0     23.2         No   \n",
              "3       1017.6       1012.8       NaN       NaN     18.1     26.5         No   \n",
              "4       1010.8       1006.0       7.0       8.0     17.8     29.7         No   \n",
              "\n",
              "   RainTomorrow  \n",
              "0            No  \n",
              "1            No  \n",
              "2            No  \n",
              "3            No  \n",
              "4            No  \n",
              "\n",
              "[5 rows x 23 columns]"
            ],
            "text/html": [
              "\n",
              "  <div id=\"df-5482036d-e3c6-4739-b45b-29285873e4c9\" class=\"colab-df-container\">\n",
              "    <div>\n",
              "<style scoped>\n",
              "    .dataframe tbody tr th:only-of-type {\n",
              "        vertical-align: middle;\n",
              "    }\n",
              "\n",
              "    .dataframe tbody tr th {\n",
              "        vertical-align: top;\n",
              "    }\n",
              "\n",
              "    .dataframe thead th {\n",
              "        text-align: right;\n",
              "    }\n",
              "</style>\n",
              "<table border=\"1\" class=\"dataframe\">\n",
              "  <thead>\n",
              "    <tr style=\"text-align: right;\">\n",
              "      <th></th>\n",
              "      <th>Date</th>\n",
              "      <th>Location</th>\n",
              "      <th>MinTemp</th>\n",
              "      <th>MaxTemp</th>\n",
              "      <th>Rainfall</th>\n",
              "      <th>Evaporation</th>\n",
              "      <th>Sunshine</th>\n",
              "      <th>WindGustDir</th>\n",
              "      <th>WindGustSpeed</th>\n",
              "      <th>WindDir9am</th>\n",
              "      <th>...</th>\n",
              "      <th>Humidity9am</th>\n",
              "      <th>Humidity3pm</th>\n",
              "      <th>Pressure9am</th>\n",
              "      <th>Pressure3pm</th>\n",
              "      <th>Cloud9am</th>\n",
              "      <th>Cloud3pm</th>\n",
              "      <th>Temp9am</th>\n",
              "      <th>Temp3pm</th>\n",
              "      <th>RainToday</th>\n",
              "      <th>RainTomorrow</th>\n",
              "    </tr>\n",
              "  </thead>\n",
              "  <tbody>\n",
              "    <tr>\n",
              "      <th>0</th>\n",
              "      <td>2008-12-01</td>\n",
              "      <td>Albury</td>\n",
              "      <td>13.4</td>\n",
              "      <td>22.9</td>\n",
              "      <td>0.6</td>\n",
              "      <td>NaN</td>\n",
              "      <td>NaN</td>\n",
              "      <td>W</td>\n",
              "      <td>44.0</td>\n",
              "      <td>W</td>\n",
              "      <td>...</td>\n",
              "      <td>71.0</td>\n",
              "      <td>22.0</td>\n",
              "      <td>1007.7</td>\n",
              "      <td>1007.1</td>\n",
              "      <td>8.0</td>\n",
              "      <td>NaN</td>\n",
              "      <td>16.9</td>\n",
              "      <td>21.8</td>\n",
              "      <td>No</td>\n",
              "      <td>No</td>\n",
              "    </tr>\n",
              "    <tr>\n",
              "      <th>1</th>\n",
              "      <td>2008-12-02</td>\n",
              "      <td>Albury</td>\n",
              "      <td>7.4</td>\n",
              "      <td>25.1</td>\n",
              "      <td>0.0</td>\n",
              "      <td>NaN</td>\n",
              "      <td>NaN</td>\n",
              "      <td>WNW</td>\n",
              "      <td>44.0</td>\n",
              "      <td>NNW</td>\n",
              "      <td>...</td>\n",
              "      <td>44.0</td>\n",
              "      <td>25.0</td>\n",
              "      <td>1010.6</td>\n",
              "      <td>1007.8</td>\n",
              "      <td>NaN</td>\n",
              "      <td>NaN</td>\n",
              "      <td>17.2</td>\n",
              "      <td>24.3</td>\n",
              "      <td>No</td>\n",
              "      <td>No</td>\n",
              "    </tr>\n",
              "    <tr>\n",
              "      <th>2</th>\n",
              "      <td>2008-12-03</td>\n",
              "      <td>Albury</td>\n",
              "      <td>12.9</td>\n",
              "      <td>25.7</td>\n",
              "      <td>0.0</td>\n",
              "      <td>NaN</td>\n",
              "      <td>NaN</td>\n",
              "      <td>WSW</td>\n",
              "      <td>46.0</td>\n",
              "      <td>W</td>\n",
              "      <td>...</td>\n",
              "      <td>38.0</td>\n",
              "      <td>30.0</td>\n",
              "      <td>1007.6</td>\n",
              "      <td>1008.7</td>\n",
              "      <td>NaN</td>\n",
              "      <td>2.0</td>\n",
              "      <td>21.0</td>\n",
              "      <td>23.2</td>\n",
              "      <td>No</td>\n",
              "      <td>No</td>\n",
              "    </tr>\n",
              "    <tr>\n",
              "      <th>3</th>\n",
              "      <td>2008-12-04</td>\n",
              "      <td>Albury</td>\n",
              "      <td>9.2</td>\n",
              "      <td>28.0</td>\n",
              "      <td>0.0</td>\n",
              "      <td>NaN</td>\n",
              "      <td>NaN</td>\n",
              "      <td>NE</td>\n",
              "      <td>24.0</td>\n",
              "      <td>SE</td>\n",
              "      <td>...</td>\n",
              "      <td>45.0</td>\n",
              "      <td>16.0</td>\n",
              "      <td>1017.6</td>\n",
              "      <td>1012.8</td>\n",
              "      <td>NaN</td>\n",
              "      <td>NaN</td>\n",
              "      <td>18.1</td>\n",
              "      <td>26.5</td>\n",
              "      <td>No</td>\n",
              "      <td>No</td>\n",
              "    </tr>\n",
              "    <tr>\n",
              "      <th>4</th>\n",
              "      <td>2008-12-05</td>\n",
              "      <td>Albury</td>\n",
              "      <td>17.5</td>\n",
              "      <td>32.3</td>\n",
              "      <td>1.0</td>\n",
              "      <td>NaN</td>\n",
              "      <td>NaN</td>\n",
              "      <td>W</td>\n",
              "      <td>41.0</td>\n",
              "      <td>ENE</td>\n",
              "      <td>...</td>\n",
              "      <td>82.0</td>\n",
              "      <td>33.0</td>\n",
              "      <td>1010.8</td>\n",
              "      <td>1006.0</td>\n",
              "      <td>7.0</td>\n",
              "      <td>8.0</td>\n",
              "      <td>17.8</td>\n",
              "      <td>29.7</td>\n",
              "      <td>No</td>\n",
              "      <td>No</td>\n",
              "    </tr>\n",
              "  </tbody>\n",
              "</table>\n",
              "<p>5 rows × 23 columns</p>\n",
              "</div>\n",
              "    <div class=\"colab-df-buttons\">\n",
              "\n",
              "  <div class=\"colab-df-container\">\n",
              "    <button class=\"colab-df-convert\" onclick=\"convertToInteractive('df-5482036d-e3c6-4739-b45b-29285873e4c9')\"\n",
              "            title=\"Convert this dataframe to an interactive table.\"\n",
              "            style=\"display:none;\">\n",
              "\n",
              "  <svg xmlns=\"http://www.w3.org/2000/svg\" height=\"24px\" viewBox=\"0 -960 960 960\">\n",
              "    <path d=\"M120-120v-720h720v720H120Zm60-500h600v-160H180v160Zm220 220h160v-160H400v160Zm0 220h160v-160H400v160ZM180-400h160v-160H180v160Zm440 0h160v-160H620v160ZM180-180h160v-160H180v160Zm440 0h160v-160H620v160Z\"/>\n",
              "  </svg>\n",
              "    </button>\n",
              "\n",
              "  <style>\n",
              "    .colab-df-container {\n",
              "      display:flex;\n",
              "      gap: 12px;\n",
              "    }\n",
              "\n",
              "    .colab-df-convert {\n",
              "      background-color: #E8F0FE;\n",
              "      border: none;\n",
              "      border-radius: 50%;\n",
              "      cursor: pointer;\n",
              "      display: none;\n",
              "      fill: #1967D2;\n",
              "      height: 32px;\n",
              "      padding: 0 0 0 0;\n",
              "      width: 32px;\n",
              "    }\n",
              "\n",
              "    .colab-df-convert:hover {\n",
              "      background-color: #E2EBFA;\n",
              "      box-shadow: 0px 1px 2px rgba(60, 64, 67, 0.3), 0px 1px 3px 1px rgba(60, 64, 67, 0.15);\n",
              "      fill: #174EA6;\n",
              "    }\n",
              "\n",
              "    .colab-df-buttons div {\n",
              "      margin-bottom: 4px;\n",
              "    }\n",
              "\n",
              "    [theme=dark] .colab-df-convert {\n",
              "      background-color: #3B4455;\n",
              "      fill: #D2E3FC;\n",
              "    }\n",
              "\n",
              "    [theme=dark] .colab-df-convert:hover {\n",
              "      background-color: #434B5C;\n",
              "      box-shadow: 0px 1px 3px 1px rgba(0, 0, 0, 0.15);\n",
              "      filter: drop-shadow(0px 1px 2px rgba(0, 0, 0, 0.3));\n",
              "      fill: #FFFFFF;\n",
              "    }\n",
              "  </style>\n",
              "\n",
              "    <script>\n",
              "      const buttonEl =\n",
              "        document.querySelector('#df-5482036d-e3c6-4739-b45b-29285873e4c9 button.colab-df-convert');\n",
              "      buttonEl.style.display =\n",
              "        google.colab.kernel.accessAllowed ? 'block' : 'none';\n",
              "\n",
              "      async function convertToInteractive(key) {\n",
              "        const element = document.querySelector('#df-5482036d-e3c6-4739-b45b-29285873e4c9');\n",
              "        const dataTable =\n",
              "          await google.colab.kernel.invokeFunction('convertToInteractive',\n",
              "                                                    [key], {});\n",
              "        if (!dataTable) return;\n",
              "\n",
              "        const docLinkHtml = 'Like what you see? Visit the ' +\n",
              "          '<a target=\"_blank\" href=https://colab.research.google.com/notebooks/data_table.ipynb>data table notebook</a>'\n",
              "          + ' to learn more about interactive tables.';\n",
              "        element.innerHTML = '';\n",
              "        dataTable['output_type'] = 'display_data';\n",
              "        await google.colab.output.renderOutput(dataTable, element);\n",
              "        const docLink = document.createElement('div');\n",
              "        docLink.innerHTML = docLinkHtml;\n",
              "        element.appendChild(docLink);\n",
              "      }\n",
              "    </script>\n",
              "  </div>\n",
              "\n",
              "\n",
              "<div id=\"df-84e42388-470f-463d-922e-df8b91f254c8\">\n",
              "  <button class=\"colab-df-quickchart\" onclick=\"quickchart('df-84e42388-470f-463d-922e-df8b91f254c8')\"\n",
              "            title=\"Suggest charts\"\n",
              "            style=\"display:none;\">\n",
              "\n",
              "<svg xmlns=\"http://www.w3.org/2000/svg\" height=\"24px\"viewBox=\"0 0 24 24\"\n",
              "     width=\"24px\">\n",
              "    <g>\n",
              "        <path d=\"M19 3H5c-1.1 0-2 .9-2 2v14c0 1.1.9 2 2 2h14c1.1 0 2-.9 2-2V5c0-1.1-.9-2-2-2zM9 17H7v-7h2v7zm4 0h-2V7h2v10zm4 0h-2v-4h2v4z\"/>\n",
              "    </g>\n",
              "</svg>\n",
              "  </button>\n",
              "\n",
              "<style>\n",
              "  .colab-df-quickchart {\n",
              "      --bg-color: #E8F0FE;\n",
              "      --fill-color: #1967D2;\n",
              "      --hover-bg-color: #E2EBFA;\n",
              "      --hover-fill-color: #174EA6;\n",
              "      --disabled-fill-color: #AAA;\n",
              "      --disabled-bg-color: #DDD;\n",
              "  }\n",
              "\n",
              "  [theme=dark] .colab-df-quickchart {\n",
              "      --bg-color: #3B4455;\n",
              "      --fill-color: #D2E3FC;\n",
              "      --hover-bg-color: #434B5C;\n",
              "      --hover-fill-color: #FFFFFF;\n",
              "      --disabled-bg-color: #3B4455;\n",
              "      --disabled-fill-color: #666;\n",
              "  }\n",
              "\n",
              "  .colab-df-quickchart {\n",
              "    background-color: var(--bg-color);\n",
              "    border: none;\n",
              "    border-radius: 50%;\n",
              "    cursor: pointer;\n",
              "    display: none;\n",
              "    fill: var(--fill-color);\n",
              "    height: 32px;\n",
              "    padding: 0;\n",
              "    width: 32px;\n",
              "  }\n",
              "\n",
              "  .colab-df-quickchart:hover {\n",
              "    background-color: var(--hover-bg-color);\n",
              "    box-shadow: 0 1px 2px rgba(60, 64, 67, 0.3), 0 1px 3px 1px rgba(60, 64, 67, 0.15);\n",
              "    fill: var(--button-hover-fill-color);\n",
              "  }\n",
              "\n",
              "  .colab-df-quickchart-complete:disabled,\n",
              "  .colab-df-quickchart-complete:disabled:hover {\n",
              "    background-color: var(--disabled-bg-color);\n",
              "    fill: var(--disabled-fill-color);\n",
              "    box-shadow: none;\n",
              "  }\n",
              "\n",
              "  .colab-df-spinner {\n",
              "    border: 2px solid var(--fill-color);\n",
              "    border-color: transparent;\n",
              "    border-bottom-color: var(--fill-color);\n",
              "    animation:\n",
              "      spin 1s steps(1) infinite;\n",
              "  }\n",
              "\n",
              "  @keyframes spin {\n",
              "    0% {\n",
              "      border-color: transparent;\n",
              "      border-bottom-color: var(--fill-color);\n",
              "      border-left-color: var(--fill-color);\n",
              "    }\n",
              "    20% {\n",
              "      border-color: transparent;\n",
              "      border-left-color: var(--fill-color);\n",
              "      border-top-color: var(--fill-color);\n",
              "    }\n",
              "    30% {\n",
              "      border-color: transparent;\n",
              "      border-left-color: var(--fill-color);\n",
              "      border-top-color: var(--fill-color);\n",
              "      border-right-color: var(--fill-color);\n",
              "    }\n",
              "    40% {\n",
              "      border-color: transparent;\n",
              "      border-right-color: var(--fill-color);\n",
              "      border-top-color: var(--fill-color);\n",
              "    }\n",
              "    60% {\n",
              "      border-color: transparent;\n",
              "      border-right-color: var(--fill-color);\n",
              "    }\n",
              "    80% {\n",
              "      border-color: transparent;\n",
              "      border-right-color: var(--fill-color);\n",
              "      border-bottom-color: var(--fill-color);\n",
              "    }\n",
              "    90% {\n",
              "      border-color: transparent;\n",
              "      border-bottom-color: var(--fill-color);\n",
              "    }\n",
              "  }\n",
              "</style>\n",
              "\n",
              "  <script>\n",
              "    async function quickchart(key) {\n",
              "      const quickchartButtonEl =\n",
              "        document.querySelector('#' + key + ' button');\n",
              "      quickchartButtonEl.disabled = true;  // To prevent multiple clicks.\n",
              "      quickchartButtonEl.classList.add('colab-df-spinner');\n",
              "      try {\n",
              "        const charts = await google.colab.kernel.invokeFunction(\n",
              "            'suggestCharts', [key], {});\n",
              "      } catch (error) {\n",
              "        console.error('Error during call to suggestCharts:', error);\n",
              "      }\n",
              "      quickchartButtonEl.classList.remove('colab-df-spinner');\n",
              "      quickchartButtonEl.classList.add('colab-df-quickchart-complete');\n",
              "    }\n",
              "    (() => {\n",
              "      let quickchartButtonEl =\n",
              "        document.querySelector('#df-84e42388-470f-463d-922e-df8b91f254c8 button');\n",
              "      quickchartButtonEl.style.display =\n",
              "        google.colab.kernel.accessAllowed ? 'block' : 'none';\n",
              "    })();\n",
              "  </script>\n",
              "</div>\n",
              "    </div>\n",
              "  </div>\n"
            ],
            "application/vnd.google.colaboratory.intrinsic+json": {
              "type": "dataframe",
              "variable_name": "dataset"
            }
          },
          "metadata": {},
          "execution_count": 120
        }
      ],
      "source": [
        "dataset = pd.read_csv(\"weatherAUS.csv\")\n",
        "dataset.head()"
      ]
    },
    {
      "cell_type": "markdown",
      "source": [
        "**Analysing the dataset**"
      ],
      "metadata": {
        "id": "X43SYQNEI1zv"
      }
    },
    {
      "cell_type": "markdown",
      "source": [
        "Dropping the **Date** column, as it does not add much significance to classification.\n"
      ],
      "metadata": {
        "id": "tfkLW5sJ0yQY"
      }
    },
    {
      "cell_type": "code",
      "execution_count": 121,
      "metadata": {
        "colab": {
          "base_uri": "https://localhost:8080/"
        },
        "id": "Rk2JSbWK_8ne",
        "outputId": "61b6850d-39ee-48bc-d01c-ca4c8d63876d"
      },
      "outputs": [
        {
          "output_type": "stream",
          "name": "stdout",
          "text": [
            "Columns in the dataset: \n",
            "Index(['Location', 'MinTemp', 'MaxTemp', 'Rainfall', 'Evaporation', 'Sunshine',\n",
            "       'WindGustDir', 'WindGustSpeed', 'WindDir9am', 'WindDir3pm',\n",
            "       'WindSpeed9am', 'WindSpeed3pm', 'Humidity9am', 'Humidity3pm',\n",
            "       'Pressure9am', 'Pressure3pm', 'Cloud9am', 'Cloud3pm', 'Temp9am',\n",
            "       'Temp3pm', 'RainToday', 'RainTomorrow'],\n",
            "      dtype='object')\n"
          ]
        }
      ],
      "source": [
        "dataset = dataset.drop(columns=['Date'])\n",
        "\n",
        "print(\"Columns in the dataset: \")\n",
        "print(dataset.columns)"
      ]
    },
    {
      "cell_type": "code",
      "execution_count": 122,
      "metadata": {
        "colab": {
          "base_uri": "https://localhost:8080/"
        },
        "id": "aOj6iv2sAO9c",
        "outputId": "d9338652-d375-4383-9a96-93e1180af48b"
      },
      "outputs": [
        {
          "output_type": "stream",
          "name": "stdout",
          "text": [
            "<class 'pandas.core.frame.DataFrame'>\n",
            "RangeIndex: 145460 entries, 0 to 145459\n",
            "Data columns (total 22 columns):\n",
            " #   Column         Non-Null Count   Dtype  \n",
            "---  ------         --------------   -----  \n",
            " 0   Location       145460 non-null  object \n",
            " 1   MinTemp        143975 non-null  float64\n",
            " 2   MaxTemp        144199 non-null  float64\n",
            " 3   Rainfall       142199 non-null  float64\n",
            " 4   Evaporation    82670 non-null   float64\n",
            " 5   Sunshine       75625 non-null   float64\n",
            " 6   WindGustDir    135134 non-null  object \n",
            " 7   WindGustSpeed  135197 non-null  float64\n",
            " 8   WindDir9am     134894 non-null  object \n",
            " 9   WindDir3pm     141232 non-null  object \n",
            " 10  WindSpeed9am   143693 non-null  float64\n",
            " 11  WindSpeed3pm   142398 non-null  float64\n",
            " 12  Humidity9am    142806 non-null  float64\n",
            " 13  Humidity3pm    140953 non-null  float64\n",
            " 14  Pressure9am    130395 non-null  float64\n",
            " 15  Pressure3pm    130432 non-null  float64\n",
            " 16  Cloud9am       89572 non-null   float64\n",
            " 17  Cloud3pm       86102 non-null   float64\n",
            " 18  Temp9am        143693 non-null  float64\n",
            " 19  Temp3pm        141851 non-null  float64\n",
            " 20  RainToday      142199 non-null  object \n",
            " 21  RainTomorrow   142193 non-null  object \n",
            "dtypes: float64(16), object(6)\n",
            "memory usage: 24.4+ MB\n"
          ]
        }
      ],
      "source": [
        "dataset.info()"
      ]
    },
    {
      "cell_type": "markdown",
      "metadata": {
        "id": "0Pf8Tu9bRm8w"
      },
      "source": [
        "**Checking Null Values** in each column to handle them later.\n",
        "\n"
      ]
    },
    {
      "cell_type": "code",
      "execution_count": 123,
      "metadata": {
        "colab": {
          "base_uri": "https://localhost:8080/"
        },
        "id": "jp-kJtkxHtn8",
        "outputId": "a4d68609-27a2-4236-c9b9-fc6e2613e035"
      },
      "outputs": [
        {
          "output_type": "stream",
          "name": "stdout",
          "text": [
            "Missing values in each column of the dataset -\n",
            "Location          0.000000\n",
            "MinTemp           1.020899\n",
            "MaxTemp           0.866905\n",
            "Rainfall          2.241853\n",
            "Evaporation      43.166506\n",
            "Sunshine         48.009762\n",
            "WindGustDir       7.098859\n",
            "WindGustSpeed     7.055548\n",
            "WindDir9am        7.263853\n",
            "WindDir3pm        2.906641\n",
            "WindSpeed9am      1.214767\n",
            "WindSpeed3pm      2.105046\n",
            "Humidity9am       1.824557\n",
            "Humidity3pm       3.098446\n",
            "Pressure9am      10.356799\n",
            "Pressure3pm      10.331363\n",
            "Cloud9am         38.421559\n",
            "Cloud3pm         40.807095\n",
            "Temp9am           1.214767\n",
            "Temp3pm           2.481094\n",
            "RainToday         2.241853\n",
            "RainTomorrow      2.245978\n",
            "dtype: float64 2\n"
          ]
        }
      ],
      "source": [
        "print(\"Missing values in each column of the dataset -\")\n",
        "print(dataset.isna().mean()* 100,2)"
      ]
    },
    {
      "cell_type": "markdown",
      "metadata": {
        "id": "LGA5lk58RrM7"
      },
      "source": [
        "**Identifying Categorical Columns**"
      ]
    },
    {
      "cell_type": "code",
      "execution_count": 124,
      "metadata": {
        "colab": {
          "base_uri": "https://localhost:8080/"
        },
        "id": "rctLHkefH_RU",
        "outputId": "4694eb90-42f8-434c-d56e-25c94b268510"
      },
      "outputs": [
        {
          "output_type": "stream",
          "name": "stdout",
          "text": [
            "Categorical Columns: \n",
            "Index(['Location', 'WindGustDir', 'WindDir9am', 'WindDir3pm', 'RainToday',\n",
            "       'RainTomorrow'],\n",
            "      dtype='object')\n"
          ]
        }
      ],
      "source": [
        "cat_columns = dataset.select_dtypes(include='object').columns\n",
        "cat_columns = cat_columns[cat_columns!='Date']\n",
        "\n",
        "print(\"Categorical Columns: \")\n",
        "print(cat_columns)"
      ]
    },
    {
      "cell_type": "markdown",
      "metadata": {
        "id": "TiIzkK3DRvq0"
      },
      "source": [
        "**Identifying Numerical Columns**"
      ]
    },
    {
      "cell_type": "code",
      "execution_count": 125,
      "metadata": {
        "colab": {
          "base_uri": "https://localhost:8080/"
        },
        "id": "iI1QGEkyIuhM",
        "outputId": "91342193-02d9-4518-d43e-d4ea291b68da"
      },
      "outputs": [
        {
          "output_type": "stream",
          "name": "stdout",
          "text": [
            "Numerical Columns: \n",
            "Index(['MinTemp', 'MaxTemp', 'Rainfall', 'Evaporation', 'Sunshine',\n",
            "       'WindGustSpeed', 'WindSpeed9am', 'WindSpeed3pm', 'Humidity9am',\n",
            "       'Humidity3pm', 'Pressure9am', 'Pressure3pm', 'Cloud9am', 'Cloud3pm',\n",
            "       'Temp9am', 'Temp3pm'],\n",
            "      dtype='object')\n"
          ]
        }
      ],
      "source": [
        "num_columns = dataset.select_dtypes(include='number').columns\n",
        "\n",
        "print(\"Numerical Columns: \")\n",
        "print(num_columns)"
      ]
    },
    {
      "cell_type": "markdown",
      "metadata": {
        "id": "ZfeNNpaCR3gR"
      },
      "source": [
        "**Handling Null Values**\n",
        "\n",
        "\n",
        "*   Filling the null values in the **numerical columns** with the **Mean value** (provides central measure) of the column.\n",
        "*   Filling the null values in the **categorical columns** with the **Median value** (most frequently occuring value) of the column.\n",
        "\n"
      ]
    },
    {
      "cell_type": "code",
      "execution_count": 126,
      "metadata": {
        "id": "P8ZqZc7zKR1i"
      },
      "outputs": [],
      "source": [
        "dataset['RainToday'].fillna('Unknown',inplace=True)"
      ]
    },
    {
      "cell_type": "code",
      "execution_count": 127,
      "metadata": {
        "id": "ZZklASj4KcG4"
      },
      "outputs": [],
      "source": [
        "dataset.dropna(subset=['RainTomorrow'],inplace=True)"
      ]
    },
    {
      "cell_type": "code",
      "execution_count": 128,
      "metadata": {
        "id": "yRawaIQCMdAX"
      },
      "outputs": [],
      "source": [
        "dataset[num_columns] = dataset[num_columns].fillna(dataset[num_columns].mean())\n",
        "\n",
        "for col in cat_columns:\n",
        "  dataset[col] = dataset[col].fillna(dataset[col].mode().iloc[0])"
      ]
    },
    {
      "cell_type": "markdown",
      "source": [
        "The dataset after handling the missing values -"
      ],
      "metadata": {
        "id": "t60nKhu7298d"
      }
    },
    {
      "cell_type": "code",
      "execution_count": 129,
      "metadata": {
        "colab": {
          "base_uri": "https://localhost:8080/"
        },
        "id": "JQGObm1vNPvF",
        "outputId": "75dc83d3-787b-4abb-b913-8c064181a749"
      },
      "outputs": [
        {
          "output_type": "stream",
          "name": "stdout",
          "text": [
            "After handling null values in the dataset - \n",
            "Location         0.0\n",
            "MinTemp          0.0\n",
            "MaxTemp          0.0\n",
            "Rainfall         0.0\n",
            "Evaporation      0.0\n",
            "Sunshine         0.0\n",
            "WindGustDir      0.0\n",
            "WindGustSpeed    0.0\n",
            "WindDir9am       0.0\n",
            "WindDir3pm       0.0\n",
            "WindSpeed9am     0.0\n",
            "WindSpeed3pm     0.0\n",
            "Humidity9am      0.0\n",
            "Humidity3pm      0.0\n",
            "Pressure9am      0.0\n",
            "Pressure3pm      0.0\n",
            "Cloud9am         0.0\n",
            "Cloud3pm         0.0\n",
            "Temp9am          0.0\n",
            "Temp3pm          0.0\n",
            "RainToday        0.0\n",
            "RainTomorrow     0.0\n",
            "dtype: float64 2\n"
          ]
        }
      ],
      "source": [
        "print(\"After handling null values in the dataset - \")\n",
        "print(dataset.isna().mean()* 100,2)"
      ]
    },
    {
      "cell_type": "markdown",
      "metadata": {
        "id": "tpGnlZJWR_Pg"
      },
      "source": [
        "**Encoding Categorical Columns**\n",
        "\n",
        "*   Apply **Label Encoding** for \"RainToday\" and \"RainTomorrow\" as the columns have only 2 values - Yes or No\n",
        "*   Apply **One-Hot Encoding** to other categorical columns, since there are more than two unique values in those columns\n",
        "\n"
      ]
    },
    {
      "cell_type": "code",
      "execution_count": 130,
      "metadata": {
        "id": "yKqpjeijNTH8"
      },
      "outputs": [],
      "source": [
        "label_encoder = LabelEncoder()\n",
        "for i in cat_columns[4:]:\n",
        "  dataset[i] = label_encoder.fit_transform(dataset[i])"
      ]
    },
    {
      "cell_type": "code",
      "execution_count": 131,
      "metadata": {
        "id": "1_5AMXFpTrHu"
      },
      "outputs": [],
      "source": [
        "dataset = pd.get_dummies(dataset,columns=cat_columns[0:4])"
      ]
    },
    {
      "cell_type": "code",
      "execution_count": 132,
      "metadata": {
        "colab": {
          "base_uri": "https://localhost:8080/",
          "height": 255
        },
        "id": "XN8hgrOAT8Op",
        "outputId": "3e06fefa-3f2a-485b-b3e6-998883541512"
      },
      "outputs": [
        {
          "output_type": "execute_result",
          "data": {
            "text/plain": [
              "   MinTemp  MaxTemp  Rainfall  Evaporation  Sunshine  WindGustSpeed  \\\n",
              "0     13.4     22.9       0.6     5.469824  7.624853           44.0   \n",
              "1      7.4     25.1       0.0     5.469824  7.624853           44.0   \n",
              "2     12.9     25.7       0.0     5.469824  7.624853           46.0   \n",
              "3      9.2     28.0       0.0     5.469824  7.624853           24.0   \n",
              "4     17.5     32.3       1.0     5.469824  7.624853           41.0   \n",
              "\n",
              "   WindSpeed9am  WindSpeed3pm  Humidity9am  Humidity3pm  ...  WindDir3pm_NNW  \\\n",
              "0          20.0          24.0         71.0         22.0  ...               0   \n",
              "1           4.0          22.0         44.0         25.0  ...               0   \n",
              "2          19.0          26.0         38.0         30.0  ...               0   \n",
              "3          11.0           9.0         45.0         16.0  ...               0   \n",
              "4           7.0          20.0         82.0         33.0  ...               0   \n",
              "\n",
              "   WindDir3pm_NW  WindDir3pm_S  WindDir3pm_SE  WindDir3pm_SSE  WindDir3pm_SSW  \\\n",
              "0              0             0              0               0               0   \n",
              "1              0             0              0               0               0   \n",
              "2              0             0              0               0               0   \n",
              "3              0             0              0               0               0   \n",
              "4              1             0              0               0               0   \n",
              "\n",
              "   WindDir3pm_SW  WindDir3pm_W  WindDir3pm_WNW  WindDir3pm_WSW  \n",
              "0              0             0               1               0  \n",
              "1              0             0               0               1  \n",
              "2              0             0               0               1  \n",
              "3              0             0               0               0  \n",
              "4              0             0               0               0  \n",
              "\n",
              "[5 rows x 115 columns]"
            ],
            "text/html": [
              "\n",
              "  <div id=\"df-3f706c20-8f5f-4a22-8575-5e2deab37ecc\" class=\"colab-df-container\">\n",
              "    <div>\n",
              "<style scoped>\n",
              "    .dataframe tbody tr th:only-of-type {\n",
              "        vertical-align: middle;\n",
              "    }\n",
              "\n",
              "    .dataframe tbody tr th {\n",
              "        vertical-align: top;\n",
              "    }\n",
              "\n",
              "    .dataframe thead th {\n",
              "        text-align: right;\n",
              "    }\n",
              "</style>\n",
              "<table border=\"1\" class=\"dataframe\">\n",
              "  <thead>\n",
              "    <tr style=\"text-align: right;\">\n",
              "      <th></th>\n",
              "      <th>MinTemp</th>\n",
              "      <th>MaxTemp</th>\n",
              "      <th>Rainfall</th>\n",
              "      <th>Evaporation</th>\n",
              "      <th>Sunshine</th>\n",
              "      <th>WindGustSpeed</th>\n",
              "      <th>WindSpeed9am</th>\n",
              "      <th>WindSpeed3pm</th>\n",
              "      <th>Humidity9am</th>\n",
              "      <th>Humidity3pm</th>\n",
              "      <th>...</th>\n",
              "      <th>WindDir3pm_NNW</th>\n",
              "      <th>WindDir3pm_NW</th>\n",
              "      <th>WindDir3pm_S</th>\n",
              "      <th>WindDir3pm_SE</th>\n",
              "      <th>WindDir3pm_SSE</th>\n",
              "      <th>WindDir3pm_SSW</th>\n",
              "      <th>WindDir3pm_SW</th>\n",
              "      <th>WindDir3pm_W</th>\n",
              "      <th>WindDir3pm_WNW</th>\n",
              "      <th>WindDir3pm_WSW</th>\n",
              "    </tr>\n",
              "  </thead>\n",
              "  <tbody>\n",
              "    <tr>\n",
              "      <th>0</th>\n",
              "      <td>13.4</td>\n",
              "      <td>22.9</td>\n",
              "      <td>0.6</td>\n",
              "      <td>5.469824</td>\n",
              "      <td>7.624853</td>\n",
              "      <td>44.0</td>\n",
              "      <td>20.0</td>\n",
              "      <td>24.0</td>\n",
              "      <td>71.0</td>\n",
              "      <td>22.0</td>\n",
              "      <td>...</td>\n",
              "      <td>0</td>\n",
              "      <td>0</td>\n",
              "      <td>0</td>\n",
              "      <td>0</td>\n",
              "      <td>0</td>\n",
              "      <td>0</td>\n",
              "      <td>0</td>\n",
              "      <td>0</td>\n",
              "      <td>1</td>\n",
              "      <td>0</td>\n",
              "    </tr>\n",
              "    <tr>\n",
              "      <th>1</th>\n",
              "      <td>7.4</td>\n",
              "      <td>25.1</td>\n",
              "      <td>0.0</td>\n",
              "      <td>5.469824</td>\n",
              "      <td>7.624853</td>\n",
              "      <td>44.0</td>\n",
              "      <td>4.0</td>\n",
              "      <td>22.0</td>\n",
              "      <td>44.0</td>\n",
              "      <td>25.0</td>\n",
              "      <td>...</td>\n",
              "      <td>0</td>\n",
              "      <td>0</td>\n",
              "      <td>0</td>\n",
              "      <td>0</td>\n",
              "      <td>0</td>\n",
              "      <td>0</td>\n",
              "      <td>0</td>\n",
              "      <td>0</td>\n",
              "      <td>0</td>\n",
              "      <td>1</td>\n",
              "    </tr>\n",
              "    <tr>\n",
              "      <th>2</th>\n",
              "      <td>12.9</td>\n",
              "      <td>25.7</td>\n",
              "      <td>0.0</td>\n",
              "      <td>5.469824</td>\n",
              "      <td>7.624853</td>\n",
              "      <td>46.0</td>\n",
              "      <td>19.0</td>\n",
              "      <td>26.0</td>\n",
              "      <td>38.0</td>\n",
              "      <td>30.0</td>\n",
              "      <td>...</td>\n",
              "      <td>0</td>\n",
              "      <td>0</td>\n",
              "      <td>0</td>\n",
              "      <td>0</td>\n",
              "      <td>0</td>\n",
              "      <td>0</td>\n",
              "      <td>0</td>\n",
              "      <td>0</td>\n",
              "      <td>0</td>\n",
              "      <td>1</td>\n",
              "    </tr>\n",
              "    <tr>\n",
              "      <th>3</th>\n",
              "      <td>9.2</td>\n",
              "      <td>28.0</td>\n",
              "      <td>0.0</td>\n",
              "      <td>5.469824</td>\n",
              "      <td>7.624853</td>\n",
              "      <td>24.0</td>\n",
              "      <td>11.0</td>\n",
              "      <td>9.0</td>\n",
              "      <td>45.0</td>\n",
              "      <td>16.0</td>\n",
              "      <td>...</td>\n",
              "      <td>0</td>\n",
              "      <td>0</td>\n",
              "      <td>0</td>\n",
              "      <td>0</td>\n",
              "      <td>0</td>\n",
              "      <td>0</td>\n",
              "      <td>0</td>\n",
              "      <td>0</td>\n",
              "      <td>0</td>\n",
              "      <td>0</td>\n",
              "    </tr>\n",
              "    <tr>\n",
              "      <th>4</th>\n",
              "      <td>17.5</td>\n",
              "      <td>32.3</td>\n",
              "      <td>1.0</td>\n",
              "      <td>5.469824</td>\n",
              "      <td>7.624853</td>\n",
              "      <td>41.0</td>\n",
              "      <td>7.0</td>\n",
              "      <td>20.0</td>\n",
              "      <td>82.0</td>\n",
              "      <td>33.0</td>\n",
              "      <td>...</td>\n",
              "      <td>0</td>\n",
              "      <td>1</td>\n",
              "      <td>0</td>\n",
              "      <td>0</td>\n",
              "      <td>0</td>\n",
              "      <td>0</td>\n",
              "      <td>0</td>\n",
              "      <td>0</td>\n",
              "      <td>0</td>\n",
              "      <td>0</td>\n",
              "    </tr>\n",
              "  </tbody>\n",
              "</table>\n",
              "<p>5 rows × 115 columns</p>\n",
              "</div>\n",
              "    <div class=\"colab-df-buttons\">\n",
              "\n",
              "  <div class=\"colab-df-container\">\n",
              "    <button class=\"colab-df-convert\" onclick=\"convertToInteractive('df-3f706c20-8f5f-4a22-8575-5e2deab37ecc')\"\n",
              "            title=\"Convert this dataframe to an interactive table.\"\n",
              "            style=\"display:none;\">\n",
              "\n",
              "  <svg xmlns=\"http://www.w3.org/2000/svg\" height=\"24px\" viewBox=\"0 -960 960 960\">\n",
              "    <path d=\"M120-120v-720h720v720H120Zm60-500h600v-160H180v160Zm220 220h160v-160H400v160Zm0 220h160v-160H400v160ZM180-400h160v-160H180v160Zm440 0h160v-160H620v160ZM180-180h160v-160H180v160Zm440 0h160v-160H620v160Z\"/>\n",
              "  </svg>\n",
              "    </button>\n",
              "\n",
              "  <style>\n",
              "    .colab-df-container {\n",
              "      display:flex;\n",
              "      gap: 12px;\n",
              "    }\n",
              "\n",
              "    .colab-df-convert {\n",
              "      background-color: #E8F0FE;\n",
              "      border: none;\n",
              "      border-radius: 50%;\n",
              "      cursor: pointer;\n",
              "      display: none;\n",
              "      fill: #1967D2;\n",
              "      height: 32px;\n",
              "      padding: 0 0 0 0;\n",
              "      width: 32px;\n",
              "    }\n",
              "\n",
              "    .colab-df-convert:hover {\n",
              "      background-color: #E2EBFA;\n",
              "      box-shadow: 0px 1px 2px rgba(60, 64, 67, 0.3), 0px 1px 3px 1px rgba(60, 64, 67, 0.15);\n",
              "      fill: #174EA6;\n",
              "    }\n",
              "\n",
              "    .colab-df-buttons div {\n",
              "      margin-bottom: 4px;\n",
              "    }\n",
              "\n",
              "    [theme=dark] .colab-df-convert {\n",
              "      background-color: #3B4455;\n",
              "      fill: #D2E3FC;\n",
              "    }\n",
              "\n",
              "    [theme=dark] .colab-df-convert:hover {\n",
              "      background-color: #434B5C;\n",
              "      box-shadow: 0px 1px 3px 1px rgba(0, 0, 0, 0.15);\n",
              "      filter: drop-shadow(0px 1px 2px rgba(0, 0, 0, 0.3));\n",
              "      fill: #FFFFFF;\n",
              "    }\n",
              "  </style>\n",
              "\n",
              "    <script>\n",
              "      const buttonEl =\n",
              "        document.querySelector('#df-3f706c20-8f5f-4a22-8575-5e2deab37ecc button.colab-df-convert');\n",
              "      buttonEl.style.display =\n",
              "        google.colab.kernel.accessAllowed ? 'block' : 'none';\n",
              "\n",
              "      async function convertToInteractive(key) {\n",
              "        const element = document.querySelector('#df-3f706c20-8f5f-4a22-8575-5e2deab37ecc');\n",
              "        const dataTable =\n",
              "          await google.colab.kernel.invokeFunction('convertToInteractive',\n",
              "                                                    [key], {});\n",
              "        if (!dataTable) return;\n",
              "\n",
              "        const docLinkHtml = 'Like what you see? Visit the ' +\n",
              "          '<a target=\"_blank\" href=https://colab.research.google.com/notebooks/data_table.ipynb>data table notebook</a>'\n",
              "          + ' to learn more about interactive tables.';\n",
              "        element.innerHTML = '';\n",
              "        dataTable['output_type'] = 'display_data';\n",
              "        await google.colab.output.renderOutput(dataTable, element);\n",
              "        const docLink = document.createElement('div');\n",
              "        docLink.innerHTML = docLinkHtml;\n",
              "        element.appendChild(docLink);\n",
              "      }\n",
              "    </script>\n",
              "  </div>\n",
              "\n",
              "\n",
              "<div id=\"df-fef4cd55-4fa3-4613-81d6-ba7076c73d8a\">\n",
              "  <button class=\"colab-df-quickchart\" onclick=\"quickchart('df-fef4cd55-4fa3-4613-81d6-ba7076c73d8a')\"\n",
              "            title=\"Suggest charts\"\n",
              "            style=\"display:none;\">\n",
              "\n",
              "<svg xmlns=\"http://www.w3.org/2000/svg\" height=\"24px\"viewBox=\"0 0 24 24\"\n",
              "     width=\"24px\">\n",
              "    <g>\n",
              "        <path d=\"M19 3H5c-1.1 0-2 .9-2 2v14c0 1.1.9 2 2 2h14c1.1 0 2-.9 2-2V5c0-1.1-.9-2-2-2zM9 17H7v-7h2v7zm4 0h-2V7h2v10zm4 0h-2v-4h2v4z\"/>\n",
              "    </g>\n",
              "</svg>\n",
              "  </button>\n",
              "\n",
              "<style>\n",
              "  .colab-df-quickchart {\n",
              "      --bg-color: #E8F0FE;\n",
              "      --fill-color: #1967D2;\n",
              "      --hover-bg-color: #E2EBFA;\n",
              "      --hover-fill-color: #174EA6;\n",
              "      --disabled-fill-color: #AAA;\n",
              "      --disabled-bg-color: #DDD;\n",
              "  }\n",
              "\n",
              "  [theme=dark] .colab-df-quickchart {\n",
              "      --bg-color: #3B4455;\n",
              "      --fill-color: #D2E3FC;\n",
              "      --hover-bg-color: #434B5C;\n",
              "      --hover-fill-color: #FFFFFF;\n",
              "      --disabled-bg-color: #3B4455;\n",
              "      --disabled-fill-color: #666;\n",
              "  }\n",
              "\n",
              "  .colab-df-quickchart {\n",
              "    background-color: var(--bg-color);\n",
              "    border: none;\n",
              "    border-radius: 50%;\n",
              "    cursor: pointer;\n",
              "    display: none;\n",
              "    fill: var(--fill-color);\n",
              "    height: 32px;\n",
              "    padding: 0;\n",
              "    width: 32px;\n",
              "  }\n",
              "\n",
              "  .colab-df-quickchart:hover {\n",
              "    background-color: var(--hover-bg-color);\n",
              "    box-shadow: 0 1px 2px rgba(60, 64, 67, 0.3), 0 1px 3px 1px rgba(60, 64, 67, 0.15);\n",
              "    fill: var(--button-hover-fill-color);\n",
              "  }\n",
              "\n",
              "  .colab-df-quickchart-complete:disabled,\n",
              "  .colab-df-quickchart-complete:disabled:hover {\n",
              "    background-color: var(--disabled-bg-color);\n",
              "    fill: var(--disabled-fill-color);\n",
              "    box-shadow: none;\n",
              "  }\n",
              "\n",
              "  .colab-df-spinner {\n",
              "    border: 2px solid var(--fill-color);\n",
              "    border-color: transparent;\n",
              "    border-bottom-color: var(--fill-color);\n",
              "    animation:\n",
              "      spin 1s steps(1) infinite;\n",
              "  }\n",
              "\n",
              "  @keyframes spin {\n",
              "    0% {\n",
              "      border-color: transparent;\n",
              "      border-bottom-color: var(--fill-color);\n",
              "      border-left-color: var(--fill-color);\n",
              "    }\n",
              "    20% {\n",
              "      border-color: transparent;\n",
              "      border-left-color: var(--fill-color);\n",
              "      border-top-color: var(--fill-color);\n",
              "    }\n",
              "    30% {\n",
              "      border-color: transparent;\n",
              "      border-left-color: var(--fill-color);\n",
              "      border-top-color: var(--fill-color);\n",
              "      border-right-color: var(--fill-color);\n",
              "    }\n",
              "    40% {\n",
              "      border-color: transparent;\n",
              "      border-right-color: var(--fill-color);\n",
              "      border-top-color: var(--fill-color);\n",
              "    }\n",
              "    60% {\n",
              "      border-color: transparent;\n",
              "      border-right-color: var(--fill-color);\n",
              "    }\n",
              "    80% {\n",
              "      border-color: transparent;\n",
              "      border-right-color: var(--fill-color);\n",
              "      border-bottom-color: var(--fill-color);\n",
              "    }\n",
              "    90% {\n",
              "      border-color: transparent;\n",
              "      border-bottom-color: var(--fill-color);\n",
              "    }\n",
              "  }\n",
              "</style>\n",
              "\n",
              "  <script>\n",
              "    async function quickchart(key) {\n",
              "      const quickchartButtonEl =\n",
              "        document.querySelector('#' + key + ' button');\n",
              "      quickchartButtonEl.disabled = true;  // To prevent multiple clicks.\n",
              "      quickchartButtonEl.classList.add('colab-df-spinner');\n",
              "      try {\n",
              "        const charts = await google.colab.kernel.invokeFunction(\n",
              "            'suggestCharts', [key], {});\n",
              "      } catch (error) {\n",
              "        console.error('Error during call to suggestCharts:', error);\n",
              "      }\n",
              "      quickchartButtonEl.classList.remove('colab-df-spinner');\n",
              "      quickchartButtonEl.classList.add('colab-df-quickchart-complete');\n",
              "    }\n",
              "    (() => {\n",
              "      let quickchartButtonEl =\n",
              "        document.querySelector('#df-fef4cd55-4fa3-4613-81d6-ba7076c73d8a button');\n",
              "      quickchartButtonEl.style.display =\n",
              "        google.colab.kernel.accessAllowed ? 'block' : 'none';\n",
              "    })();\n",
              "  </script>\n",
              "</div>\n",
              "    </div>\n",
              "  </div>\n"
            ],
            "application/vnd.google.colaboratory.intrinsic+json": {
              "type": "dataframe",
              "variable_name": "dataset"
            }
          },
          "metadata": {},
          "execution_count": 132
        }
      ],
      "source": [
        "dataset.head()"
      ]
    },
    {
      "cell_type": "markdown",
      "source": [
        "Size of the dataset before handling outliers -"
      ],
      "metadata": {
        "id": "NRxqIbjI3xxR"
      }
    },
    {
      "cell_type": "code",
      "execution_count": 133,
      "metadata": {
        "colab": {
          "base_uri": "https://localhost:8080/"
        },
        "id": "fHclNmT-UNMM",
        "outputId": "3fb40622-8aee-4c6a-8312-e84fa0d6fe76"
      },
      "outputs": [
        {
          "output_type": "stream",
          "name": "stdout",
          "text": [
            "Dataset size before handling outliers:  (142193, 115)\n"
          ]
        }
      ],
      "source": [
        "print(\"Dataset size before handling outliers: \",dataset.shape)"
      ]
    },
    {
      "cell_type": "markdown",
      "metadata": {
        "id": "6If1o_XySJ9E"
      },
      "source": [
        "**Handling Outliers using z_scores**\n",
        "\n",
        "Z-score is used to handle outliers by providing a standardized measure of how far each data point is from the mean of the dataset in terms of standard deviations.\n",
        "\n",
        "After calculating the z-score for each data point, outliers can be identified based on their z-score. Typically, outliers are defined as data points that fall below (or above) a certain threshold of standard deviations from the mean.  **Standard threshold is +(-)3**\n",
        "\n"
      ]
    },
    {
      "cell_type": "code",
      "execution_count": 134,
      "metadata": {
        "id": "DVXKRmRdUaDb"
      },
      "outputs": [],
      "source": [
        "z_scores = stats.zscore(dataset[num_columns])\n",
        "abs_z_score = np.abs(z_scores)\n",
        "filtered_entries = (abs_z_score < 3).all(axis=1)\n",
        "dataset = dataset[filtered_entries]"
      ]
    },
    {
      "cell_type": "code",
      "execution_count": 135,
      "metadata": {
        "colab": {
          "base_uri": "https://localhost:8080/"
        },
        "id": "8mIsQO9LWvaO",
        "outputId": "f2279f7b-43de-4c74-c6c0-cbd299be9fc5"
      },
      "outputs": [
        {
          "output_type": "stream",
          "name": "stdout",
          "text": [
            "Dataset size after handling outliers:  (133601, 115)\n"
          ]
        }
      ],
      "source": [
        "print(\"Dataset size after handling outliers: \",dataset.shape)"
      ]
    },
    {
      "cell_type": "code",
      "execution_count": 136,
      "metadata": {
        "id": "h9mJuSQkXZCF"
      },
      "outputs": [],
      "source": [
        "x = dataset.drop(columns=['RainTomorrow'])\n",
        "y = dataset['RainTomorrow']"
      ]
    },
    {
      "cell_type": "markdown",
      "source": [
        "**Balancing the Dataset**\n",
        "\n",
        "To overcome imbalance classification, we need to balance the dataset before classification techniques can be applied on it.\n",
        "\n",
        "The **RandomOverSampler** is used to balance the class distribution by oversampling the minority class, thereby creating a more balanced dataset for training classification models.\n"
      ],
      "metadata": {
        "id": "f0nn-8o96B1e"
      }
    },
    {
      "cell_type": "code",
      "source": [
        "ros = RandomOverSampler()\n",
        "X_balanced, Y_balanced = ros.fit_resample(x,y)"
      ],
      "metadata": {
        "id": "J-MGxB-f58JF"
      },
      "execution_count": 137,
      "outputs": []
    },
    {
      "cell_type": "markdown",
      "metadata": {
        "id": "UqMv9xrkSQdT"
      },
      "source": [
        "**Splitting the dataset after balancing it**"
      ]
    },
    {
      "cell_type": "code",
      "source": [
        "X_train, X_test, Y_train, Y_test = train_test_split(X_balanced, Y_balanced, test_size=0.2, random_state=0)"
      ],
      "metadata": {
        "id": "7lP-7AJB5_Vj"
      },
      "execution_count": 138,
      "outputs": []
    },
    {
      "cell_type": "markdown",
      "metadata": {
        "id": "l3BhnOvTY59a"
      },
      "source": [
        "# Logistic Regression"
      ]
    },
    {
      "cell_type": "markdown",
      "metadata": {
        "id": "jF3rc2f1SZRw"
      },
      "source": [
        "**Fitting logistic regression**"
      ]
    },
    {
      "cell_type": "code",
      "execution_count": 139,
      "metadata": {
        "id": "9o9wAl_mZZmK"
      },
      "outputs": [],
      "source": [
        "logistic_classifier = LogisticRegression(max_iter=1500, solver='liblinear')\n",
        "logistic_classifier.fit(X_train,Y_train)\n",
        "\n",
        "y_pred = logistic_classifier.predict(X_test)"
      ]
    },
    {
      "cell_type": "markdown",
      "metadata": {
        "id": "w8oTC5K6SdPK"
      },
      "source": [
        "**Confusion Matrix**"
      ]
    },
    {
      "cell_type": "code",
      "execution_count": 140,
      "metadata": {
        "colab": {
          "base_uri": "https://localhost:8080/"
        },
        "id": "p_VBvB3Naw3Y",
        "outputId": "b9dee8a1-e26e-43b3-b85c-204f87d56cd9"
      },
      "outputs": [
        {
          "output_type": "stream",
          "name": "stdout",
          "text": [
            "Confusion matrix for logistic regression:\n",
            "[[16575  4324]\n",
            " [ 5036 16245]]\n"
          ]
        }
      ],
      "source": [
        "conf_matrix = confusion_matrix(Y_test,y_pred)\n",
        "\n",
        "print(\"Confusion matrix for logistic regression:\")\n",
        "print(conf_matrix)"
      ]
    },
    {
      "cell_type": "markdown",
      "metadata": {
        "id": "1AWZZP_9ShpB"
      },
      "source": [
        "**HeatMap Visualisation** of the confusion matrix"
      ]
    },
    {
      "cell_type": "code",
      "execution_count": 141,
      "metadata": {
        "colab": {
          "base_uri": "https://localhost:8080/",
          "height": 333
        },
        "id": "tkQwW_9EbKCF",
        "outputId": "c9b0cb1f-bdc6-422d-edbe-7c15bfb31953"
      },
      "outputs": [
        {
          "output_type": "display_data",
          "data": {
            "text/plain": [
              "<Figure size 400x300 with 1 Axes>"
            ],
            "image/png": "[encoded data removed]"
          },
          "metadata": {}
        }
      ],
      "source": [
        "plt.figure(figsize=(4,3))\n",
        "sns.heatmap(conf_matrix,annot=True,cmap=\"Blues\",fmt='g',cbar=False)\n",
        "plt.xlabel('Predicted')\n",
        "plt.ylabel('Actual')\n",
        "plt.title('Logistic Regression - HeatMap visualisation for confusion matrix')\n",
        "plt.show()"
      ]
    },
    {
      "cell_type": "markdown",
      "source": [
        "**Classification Report** of the model"
      ],
      "metadata": {
        "id": "VsiIL9us79KE"
      }
    },
    {
      "cell_type": "code",
      "execution_count": 142,
      "metadata": {
        "colab": {
          "base_uri": "https://localhost:8080/"
        },
        "id": "C6Q458g_cZTy",
        "outputId": "68a03d6e-3b47-45a7-ec71-dcad529f60b5"
      },
      "outputs": [
        {
          "output_type": "stream",
          "name": "stdout",
          "text": [
            "Classification Report:\n",
            "              precision    recall  f1-score   support\n",
            "\n",
            "           0       0.77      0.79      0.78     20899\n",
            "           1       0.79      0.76      0.78     21281\n",
            "\n",
            "    accuracy                           0.78     42180\n",
            "   macro avg       0.78      0.78      0.78     42180\n",
            "weighted avg       0.78      0.78      0.78     42180\n",
            "\n"
          ]
        }
      ],
      "source": [
        "print(\"Classification Report:\")\n",
        "print(classification_report(Y_test,y_pred))"
      ]
    },
    {
      "cell_type": "markdown",
      "source": [
        "**Accuracy Score of the model**"
      ],
      "metadata": {
        "id": "hSZ1FYF773ax"
      }
    },
    {
      "cell_type": "code",
      "source": [
        "acc_score = accuracy_score(Y_test,y_pred)\n",
        "print(\"Accuracy Score: \",round(acc_score*100,2))"
      ],
      "metadata": {
        "colab": {
          "base_uri": "https://localhost:8080/"
        },
        "id": "QbWqshJg7dwP",
        "outputId": "6fc9adaf-90dc-447c-951c-6a74b7812bed"
      },
      "execution_count": 143,
      "outputs": [
        {
          "output_type": "stream",
          "name": "stdout",
          "text": [
            "Accuracy Score:  77.81\n"
          ]
        }
      ]
    },
    {
      "cell_type": "markdown",
      "metadata": {
        "id": "Ze6ZRAn5Smum"
      },
      "source": [
        "**ROC Curve and Optimising threshold**"
      ]
    },
    {
      "cell_type": "code",
      "execution_count": 144,
      "metadata": {
        "colab": {
          "base_uri": "https://localhost:8080/",
          "height": 368
        },
        "id": "xgtQjSgxDsJl",
        "outputId": "2e14bd73-7e72-460f-ea68-e75a494bcbc6"
      },
      "outputs": [
        {
          "output_type": "display_data",
          "data": {
            "text/plain": [
              "<Figure size 400x300 with 1 Axes>"
            ],
            "image/png": "[encoded data removed]"
          },
          "metadata": {}
        },
        {
          "output_type": "stream",
          "name": "stdout",
          "text": [
            "ROC-AUC Score:  86.39\n",
            "Optimal Threshold:  0.48\n"
          ]
        }
      ],
      "source": [
        "y_prob = logistic_classifier.predict_proba(X_test)[:,1]\n",
        "\n",
        "fpr, tpr, thresholds = roc_curve(Y_test.values,y_prob)\n",
        "\n",
        "plt.figure(figsize=(4,3))\n",
        "plt.plot(fpr, tpr, label='ROC Curve')\n",
        "plt.plot([0,1],[0,1],'k--')\n",
        "plt.xlabel('False Positive Rate')\n",
        "plt.ylabel('True Positive Rate')\n",
        "plt.title('ROC Curve for Logistic Regression')\n",
        "\n",
        "roc_auc = roc_auc_score(Y_test,y_prob)\n",
        "optimal_threshold_index = np.argmax(tpr-fpr)\n",
        "optimal_threshold = thresholds[optimal_threshold_index]\n",
        "\n",
        "plt.scatter(fpr[optimal_threshold_index],tpr[optimal_threshold_index],marker='o',color='red',label=f'Optimal Threshold ({optimal_threshold:.2f})')\n",
        "plt.legend()\n",
        "plt.show()\n",
        "\n",
        "print(\"ROC-AUC Score: \",round(roc_auc*100,2))\n",
        "print(\"Optimal Threshold: \",round(optimal_threshold,2))\n",
        "\n",
        "y_pred_adjusted = (y_prob >= optimal_threshold).astype(int)"
      ]
    },
    {
      "cell_type": "markdown",
      "source": [
        "**Classification Report after adjusting the model using optimal threshold**"
      ],
      "metadata": {
        "id": "Nw5SAdhDMkeT"
      }
    },
    {
      "cell_type": "code",
      "source": [
        "print(\"Classification Report:\")\n",
        "print(classification_report(Y_test,y_pred_adjusted))"
      ],
      "metadata": {
        "colab": {
          "base_uri": "https://localhost:8080/"
        },
        "id": "bGznCGx0MujL",
        "outputId": "9d8bfb84-50fb-48dd-a8fa-5cde121e8529"
      },
      "execution_count": 145,
      "outputs": [
        {
          "output_type": "stream",
          "name": "stdout",
          "text": [
            "Classification Report:\n",
            "              precision    recall  f1-score   support\n",
            "\n",
            "           0       0.78      0.78      0.78     20899\n",
            "           1       0.78      0.78      0.78     21281\n",
            "\n",
            "    accuracy                           0.78     42180\n",
            "   macro avg       0.78      0.78      0.78     42180\n",
            "weighted avg       0.78      0.78      0.78     42180\n",
            "\n"
          ]
        }
      ]
    },
    {
      "cell_type": "markdown",
      "source": [
        "**Accuracy score after adjusting the model using optimal threshold**"
      ],
      "metadata": {
        "id": "kPU95NCi8LyJ"
      }
    },
    {
      "cell_type": "code",
      "execution_count": 146,
      "metadata": {
        "colab": {
          "base_uri": "https://localhost:8080/"
        },
        "id": "9K_y-O3H-buO",
        "outputId": "175a5530-e529-43d3-d1e0-96552e90873b"
      },
      "outputs": [
        {
          "output_type": "stream",
          "name": "stdout",
          "text": [
            "Accuracy Score after adjusting the model:  78.02\n"
          ]
        }
      ],
      "source": [
        "acc_score = accuracy_score(Y_test, y_pred_adjusted)\n",
        "print(\"Accuracy Score after adjusting the model: \",round(acc_score*100,2))"
      ]
    },
    {
      "cell_type": "markdown",
      "source": [
        "**Inferences from adjusting the model using optimal threshold**\n",
        "\n",
        "\n",
        "*   The accuracy improved slightly from 77.81% to 78.02% after adjusting the model using the optimal threshold.\n",
        "*   The increase in accuracy suggests that optimizing the decision threshold helped the model make better predictions on the test data, resulting in a slightly improved overall performance.\n"
      ],
      "metadata": {
        "id": "DusLSKfY8vIi"
      }
    },
    {
      "cell_type": "markdown",
      "metadata": {
        "id": "iEKZzko5Ssxl"
      },
      "source": [
        "**k-fold Cross Validation**\n",
        "\n",
        "K-fold cross-validation is a technique used in machine learning to assess the performance of a predictive model. It involves partitioning the dataset into k equal-sized folds (or subsets) and then iteratively training the model on k-1 folds while using the remaining fold as the validation set. This process is repeated k times, with each fold being used as the validation set exactly once.\n",
        "\n",
        "Here, we take the value of k as 3"
      ]
    },
    {
      "cell_type": "code",
      "execution_count": 147,
      "metadata": {
        "colab": {
          "base_uri": "https://localhost:8080/"
        },
        "id": "W3ENzt6H_Zu3",
        "outputId": "13334ec2-4d27-4d3f-b291-0d54989562c0"
      },
      "outputs": [
        {
          "output_type": "stream",
          "name": "stdout",
          "text": [
            "Cross Validation Scores:  [0.82667176 0.83493511 0.84508118]\n",
            "Mean CV Score:  0.8355626793100086\n",
            "Standard Deviation of CV Scores:  0.007528703588590492\n"
          ]
        }
      ],
      "source": [
        "k = 3\n",
        "\n",
        "cv_scores = cross_val_score(logistic_classifier,x,y,cv=k)\n",
        "\n",
        "mean_cv_score = np.mean(cv_scores)\n",
        "std_cv_score=np.std(cv_scores)\n",
        "\n",
        "print(\"Cross Validation Scores: \",cv_scores)\n",
        "print(\"Mean CV Score: \",mean_cv_score)\n",
        "print(\"Standard Deviation of CV Scores: \",std_cv_score)"
      ]
    },
    {
      "cell_type": "markdown",
      "source": [
        "**Inference**\n",
        "*   The mean cross-validation score gives an overall estimate of the model's performance across different folds.\n",
        "*   A high mean cross-validation score indicates that the model performs consistently well across various subsets of the data, suggesting good generalization ability.\n",
        "*   The small standard deviation implies that the performance variation between different folds is minimal, indicating the stability of the model's performance.\n",
        "\n",
        "\n",
        "\n"
      ],
      "metadata": {
        "id": "fPd0bcqwKX3i"
      }
    },
    {
      "cell_type": "markdown",
      "metadata": {
        "id": "dRDQB126S3Qu"
      },
      "source": [
        "**Test for overfit and underfit**"
      ]
    },
    {
      "cell_type": "code",
      "execution_count": 148,
      "metadata": {
        "colab": {
          "base_uri": "https://localhost:8080/"
        },
        "id": "rxNtHEM5Abq4",
        "outputId": "70d4f9b4-abf3-4ad2-b5fe-bc24eeee489a"
      },
      "outputs": [
        {
          "output_type": "stream",
          "name": "stdout",
          "text": [
            "Training set score:  0.7828777353659404\n",
            "Testing set score:  0.7780938833570412\n"
          ]
        }
      ],
      "source": [
        "print(\"Training set score: \",logistic_classifier.score(X_train,Y_train))\n",
        "print(\"Testing set score: \",logistic_classifier.score(X_test,Y_test))"
      ]
    },
    {
      "cell_type": "markdown",
      "source": [
        "**Inference**\n",
        "\n",
        "*   The model's performance on the training set is slightly higher than its performance on the testing set.\n",
        "*   This indicates that the model might be slightly overfitting the training data, as it performs better on the data it has been trained on compared to new, unseen data.\n",
        "*   However, the difference between the training and testing set scores is not significant, suggesting that the model generalizes reasonably well to unseen data.\n",
        "\n",
        "\n",
        "\n"
      ],
      "metadata": {
        "id": "tedZdSWk-omB"
      }
    },
    {
      "cell_type": "markdown",
      "metadata": {
        "id": "VntwJWgPS7Is"
      },
      "source": [
        "**Optimizing regularisation hyperparameter**"
      ]
    },
    {
      "cell_type": "code",
      "execution_count": 149,
      "metadata": {
        "colab": {
          "base_uri": "https://localhost:8080/"
        },
        "id": "gZRyiN3rBFIu",
        "outputId": "8433252b-6176-42c2-84fa-0eec671c44b5"
      },
      "outputs": [
        {
          "output_type": "stream",
          "name": "stdout",
          "text": [
            "Best Regularization Hyperparameter:  {'C': 100}\n",
            "Model performance with Best Hyperparameter:  78.05\n"
          ]
        }
      ],
      "source": [
        "param_grid = {'C':[0.001,0.01,0.1,1,10,100]}\n",
        "\n",
        "grid_search =  GridSearchCV(logistic_classifier,param_grid,cv=3)\n",
        "\n",
        "grid_search.fit(X_train,Y_train)\n",
        "\n",
        "best_params = grid_search.best_params_\n",
        "print(\"Best Regularization Hyperparameter: \",best_params)\n",
        "\n",
        "best_model = grid_search.best_estimator_\n",
        "best_model_performance = best_model.score(X_test,Y_test)\n",
        "print(\"Model performance with Best Hyperparameter: \",round(best_model_performance*100,2))\n"
      ]
    },
    {
      "cell_type": "markdown",
      "source": [
        "**Inferences**\n",
        "\n",
        "\n",
        "*   The grid search identified **C = 100** as the optimal regularization parameter for this logistic regression model.\n",
        "*   With this optimal hyperparameter, the model's performance **improved to 78.05%**, indicating that less regularization led to a better fit to the training data.\n",
        "\n"
      ],
      "metadata": {
        "id": "C0I3QS3cA851"
      }
    },
    {
      "cell_type": "markdown",
      "metadata": {
        "id": "ucm2LH_EFgBR"
      },
      "source": [
        "# Gaussian Naive Bayes Classification"
      ]
    },
    {
      "cell_type": "markdown",
      "metadata": {
        "id": "P2O_i4eBTTv2"
      },
      "source": [
        "**Fitting Naive Bayes Classifier**"
      ]
    },
    {
      "cell_type": "code",
      "execution_count": 150,
      "metadata": {
        "id": "99pgXBkEFmY1"
      },
      "outputs": [],
      "source": [
        "gaussian_nb = GaussianNB()\n",
        "gaussian_nb.fit(X_train,Y_train)\n",
        "\n",
        "y_pred = gaussian_nb.predict(X_test)"
      ]
    },
    {
      "cell_type": "markdown",
      "metadata": {
        "id": "HovFqB9bTbU0"
      },
      "source": [
        "**Confusion Matrix**"
      ]
    },
    {
      "cell_type": "code",
      "execution_count": 151,
      "metadata": {
        "colab": {
          "base_uri": "https://localhost:8080/"
        },
        "id": "H7xD0-2dGcQV",
        "outputId": "9cd5bc3d-6df0-4e6a-cabf-4ccedcdb598e"
      },
      "outputs": [
        {
          "output_type": "stream",
          "name": "stdout",
          "text": [
            "Confusion Matrix for Naive Bayes classifier\n",
            "[[11914  8985]\n",
            " [ 5333 15948]]\n"
          ]
        }
      ],
      "source": [
        "conf_mat = confusion_matrix(Y_test,y_pred)\n",
        "print(\"Confusion Matrix for Naive Bayes classifier\")\n",
        "print(conf_mat)"
      ]
    },
    {
      "cell_type": "markdown",
      "metadata": {
        "id": "bteRw6VmTfn-"
      },
      "source": [
        "**HeatMap visualisation** of the confusion matrix"
      ]
    },
    {
      "cell_type": "code",
      "execution_count": 152,
      "metadata": {
        "colab": {
          "base_uri": "https://localhost:8080/",
          "height": 333
        },
        "id": "ANVNOJ-3G4cG",
        "outputId": "dd0c14e7-d389-4e72-e7c4-7c1262d7001f"
      },
      "outputs": [
        {
          "output_type": "display_data",
          "data": {
            "text/plain": [
              "<Figure size 400x300 with 1 Axes>"
            ],
            "image/png": "[encoded data removed]"
          },
          "metadata": {}
        }
      ],
      "source": [
        "plt.figure(figsize=(4,3))\n",
        "sns.heatmap(conf_mat,annot=True,cmap='Reds',fmt='g',cbar=False)\n",
        "plt.xlabel('Predicted')\n",
        "plt.ylabel('Actual')\n",
        "plt.title('Naive Bayes - HeatMap visualisation for Confusion Matrix')\n",
        "plt.show()"
      ]
    },
    {
      "cell_type": "markdown",
      "source": [
        "**Classification Report** of the model"
      ],
      "metadata": {
        "id": "u_h5LW3mCIFI"
      }
    },
    {
      "cell_type": "code",
      "execution_count": 153,
      "metadata": {
        "colab": {
          "base_uri": "https://localhost:8080/"
        },
        "id": "z8DNCLWcHmqb",
        "outputId": "66e8a48a-cd70-467d-98e0-f45b0e803bab"
      },
      "outputs": [
        {
          "output_type": "stream",
          "name": "stdout",
          "text": [
            "Classification Report: \n",
            "              precision    recall  f1-score   support\n",
            "\n",
            "           0       0.69      0.57      0.62     20899\n",
            "           1       0.64      0.75      0.69     21281\n",
            "\n",
            "    accuracy                           0.66     42180\n",
            "   macro avg       0.67      0.66      0.66     42180\n",
            "weighted avg       0.66      0.66      0.66     42180\n",
            "\n"
          ]
        }
      ],
      "source": [
        "print(\"Classification Report: \")\n",
        "print(classification_report(Y_test,y_pred))"
      ]
    },
    {
      "cell_type": "markdown",
      "source": [
        "**Accuracy Score**"
      ],
      "metadata": {
        "id": "-c7y1-TUCNQF"
      }
    },
    {
      "cell_type": "code",
      "execution_count": 154,
      "metadata": {
        "colab": {
          "base_uri": "https://localhost:8080/"
        },
        "id": "5yv0DJOEMSWs",
        "outputId": "08044191-7c75-4fbb-fa19-00967a416187"
      },
      "outputs": [
        {
          "output_type": "stream",
          "name": "stdout",
          "text": [
            "Accuracy Score:  66.06\n"
          ]
        }
      ],
      "source": [
        "acc_score = accuracy_score(Y_test,y_pred)\n",
        "print(\"Accuracy Score: \",round(acc_score*100,2))"
      ]
    },
    {
      "cell_type": "markdown",
      "source": [
        "**ROC Curve and Optimal Threshold**"
      ],
      "metadata": {
        "id": "R3-PN1qBCYpJ"
      }
    },
    {
      "cell_type": "code",
      "execution_count": 155,
      "metadata": {
        "colab": {
          "base_uri": "https://localhost:8080/",
          "height": 368
        },
        "id": "ibspPolWMiJC",
        "outputId": "b82ce951-3081-4cca-a47b-84729f52d58a"
      },
      "outputs": [
        {
          "output_type": "display_data",
          "data": {
            "text/plain": [
              "<Figure size 400x300 with 1 Axes>"
            ],
            "image/png": "[encoded data removed]"
          },
          "metadata": {}
        },
        {
          "output_type": "stream",
          "name": "stdout",
          "text": [
            "ROC-AUC Score:  73.29\n",
            "Optimal Threshold:  0.97\n"
          ]
        }
      ],
      "source": [
        "y_prob = gaussian_nb.predict_proba(X_test)[:,1]\n",
        "\n",
        "fpr, tpr, thresholds = roc_curve(Y_test.values,y_prob)\n",
        "\n",
        "plt.figure(figsize=(4,3))\n",
        "plt.plot(fpr, tpr, label='ROC Curve')\n",
        "plt.plot([0,1],[0,1],'k--')\n",
        "plt.xlabel('False Positive Rate')\n",
        "plt.ylabel('True Positive Rate')\n",
        "plt.title('ROC Curve for Naive Bayes Classifier')\n",
        "\n",
        "roc_auc = roc_auc_score(Y_test,y_prob)\n",
        "optimal_threshold_index = np.argmax(tpr-fpr)\n",
        "optimal_threshold = thresholds[optimal_threshold_index]\n",
        "\n",
        "plt.scatter(fpr[optimal_threshold_index],tpr[optimal_threshold_index],marker='o',color='red',label=f'Optimal Threshold ({optimal_threshold:.2f})')\n",
        "plt.legend()\n",
        "plt.show()\n",
        "\n",
        "print(\"ROC-AUC Score: \",round(roc_auc*100,2))\n",
        "print(\"Optimal Threshold: \",round(optimal_threshold,2))\n",
        "\n",
        "y_pred_adjusted = (y_prob >= optimal_threshold).astype(int)"
      ]
    },
    {
      "cell_type": "markdown",
      "source": [
        "**Classification Report after adjusting the model with optimal threshold**"
      ],
      "metadata": {
        "id": "m_2d0RxwPbtW"
      }
    },
    {
      "cell_type": "code",
      "source": [
        "print(\"Classification Report:\")\n",
        "print(classification_report(Y_test,y_pred_adjusted))"
      ],
      "metadata": {
        "colab": {
          "base_uri": "https://localhost:8080/"
        },
        "id": "2sTNBh40Pla6",
        "outputId": "7797cb07-9dc8-40fb-b75e-f04b09bfdc9a"
      },
      "execution_count": 156,
      "outputs": [
        {
          "output_type": "stream",
          "name": "stdout",
          "text": [
            "Classification Report:\n",
            "              precision    recall  f1-score   support\n",
            "\n",
            "           0       0.66      0.69      0.68     20899\n",
            "           1       0.68      0.65      0.67     21281\n",
            "\n",
            "    accuracy                           0.67     42180\n",
            "   macro avg       0.67      0.67      0.67     42180\n",
            "weighted avg       0.67      0.67      0.67     42180\n",
            "\n"
          ]
        }
      ]
    },
    {
      "cell_type": "markdown",
      "source": [
        "**Accuracy score after adjusting the model with optimal threshold**"
      ],
      "metadata": {
        "id": "QVvvQFrYClX5"
      }
    },
    {
      "cell_type": "code",
      "execution_count": 157,
      "metadata": {
        "colab": {
          "base_uri": "https://localhost:8080/"
        },
        "id": "jFvZcBLzM7v3",
        "outputId": "1824985c-13ab-41b8-96ef-a23b5491ce8f"
      },
      "outputs": [
        {
          "output_type": "stream",
          "name": "stdout",
          "text": [
            "Accuracy score after adjusting the model:  67.28\n"
          ]
        }
      ],
      "source": [
        "acc_score = accuracy_score(Y_test,y_pred_adjusted)\n",
        "print(\"Accuracy score after adjusting the model: \",round(acc_score*100,2))"
      ]
    },
    {
      "cell_type": "markdown",
      "source": [
        "**Inference**\n",
        "\n",
        "*   The accuracy **improved from 66.06% to 67.28%** after adjusting the model with the optimal threshold.\n",
        "*   Precision, recall, and F1-score for both classes (0 and 1) also improved slightly after adjusting the model, indicating that the model's performance across different evaluation metrics has improved.\n",
        "*   The increase in accuracy suggests that optimizing the decision threshold helped the model make better predictions on the test data, resulting in improved overall performance.\n",
        "\n",
        "\n"
      ],
      "metadata": {
        "id": "UTxkznx3C1xo"
      }
    },
    {
      "cell_type": "markdown",
      "source": [
        "**k-fold Cross Validation**\n"
      ],
      "metadata": {
        "id": "RHGwpzBRDMTJ"
      }
    },
    {
      "cell_type": "code",
      "execution_count": 158,
      "metadata": {
        "colab": {
          "base_uri": "https://localhost:8080/"
        },
        "id": "OVKhpZD9NG4W",
        "outputId": "e5cacebf-81e8-42d3-e571-be5051eb5115"
      },
      "outputs": [
        {
          "output_type": "stream",
          "name": "stdout",
          "text": [
            "Cross Validation Scores:  [0.64371042 0.68913639 0.57820044]\n",
            "Mean CV Score:  0.6370157497674858\n",
            "Standard Deviation of CV Scores:  0.045536143115697335\n"
          ]
        }
      ],
      "source": [
        "k = 3\n",
        "\n",
        "cv_scores = cross_val_score(gaussian_nb,x,y,cv=k)\n",
        "\n",
        "mean_cv_score = np.mean(cv_scores)\n",
        "std_cv_score=np.std(cv_scores)\n",
        "\n",
        "print(\"Cross Validation Scores: \",cv_scores)\n",
        "print(\"Mean CV Score: \",mean_cv_score)\n",
        "print(\"Standard Deviation of CV Scores: \",std_cv_score)"
      ]
    },
    {
      "cell_type": "markdown",
      "source": [
        "**Inference**\n",
        "\n",
        "*   The mean cross-validation score is approximately **63.70%**, indicating that, on average, **the model correctly predicts the target variable around 63.70% of the time across different folds** of the training data.\n",
        "*   The standard deviation of the cross-validation scores is approximately **4.55%**, suggesting some **variability in the model's performance across different folds**.\n",
        "*  The individual cross-validation scores range from 57.82% to 68.91%, indicating variability in the model's performance across different folds of the training data.\n",
        "\n",
        "\n",
        "\n",
        "\n"
      ],
      "metadata": {
        "id": "KTzeYPAaQdyg"
      }
    },
    {
      "cell_type": "markdown",
      "source": [
        "**Test for Overfit and Underfit**\n",
        "\n"
      ],
      "metadata": {
        "id": "p-qC-cSaDZ88"
      }
    },
    {
      "cell_type": "code",
      "execution_count": 159,
      "metadata": {
        "colab": {
          "base_uri": "https://localhost:8080/"
        },
        "id": "pCdjNEVENZGK",
        "outputId": "2225278d-d25a-4461-fa04-3c447526b175"
      },
      "outputs": [
        {
          "output_type": "stream",
          "name": "stdout",
          "text": [
            "Training set score:  0.6603700893809715\n",
            "Testing set score:  0.6605500237079185\n"
          ]
        }
      ],
      "source": [
        "print(\"Training set score: \",gaussian_nb.score(X_train,Y_train))\n",
        "print(\"Testing set score: \",gaussian_nb.score(X_test,Y_test))"
      ]
    },
    {
      "cell_type": "markdown",
      "source": [
        "**Inference**\n",
        "\n",
        "\n",
        "*   Both the **training set score (66.04%)** and **testing set score (66.05%)** are **relatively close**, indicating that the model is **performing consistently** on both the training and testing data.\n",
        "*   Indicates that there is no significant overfitting or underfitting issue with the model\n",
        "\n",
        "\n",
        "\n"
      ],
      "metadata": {
        "id": "UzEhaFtEEr9k"
      }
    },
    {
      "cell_type": "markdown",
      "source": [
        "# Conclusion"
      ],
      "metadata": {
        "id": "wL9lJsxxSAqb"
      }
    },
    {
      "cell_type": "markdown",
      "source": [
        "Based on the observations:\n",
        "\n",
        "**Logistic Regression**\n",
        "\n",
        "\n",
        "*   The initial accuracy of 77.81% increased to 78.02% after adjusting with an optimal threshold.\n",
        "*   3-fold Cross Validation indicated a mean accuracy of 83.56% with a standard deviation of 0.75%.\n",
        "*   The model's performace was slightly better on the training set indicating a over-fitting of data.\n",
        "*   With optimal regularisation hyperparameter the accuracy increased to 78.05%.\n",
        "\n",
        "**Naive Bayes Classifier**\n",
        "\n",
        "*   The model achieved an accuracy score of 66.06% before adjusting with an optimal threshold, which increased to 67.28% after adjustment optimal threshold, indicating an improvement in performance.\n",
        "*   Cross-validation scores indicated a mean accuracy of 63.70% with a standard deviation of 4.55%, suggesting some variability in performance across different folds of the data.\n",
        "*   The model's training and testing set scores were similar (66.04% and 66.05%, respectively), indicating a reasonable fit without significant overfitting or underfitting issues.\n",
        "\n",
        "\n",
        "In conclusion, both logistic regression and Naive Bayes classifiers demonstrated reasonable performance in predicting the target variable. Logistic regression showed slightly better performance in terms of accuracy and stability across different folds of the data compared to Naive Bayes.\n",
        "\n",
        "\n",
        "\n"
      ],
      "metadata": {
        "id": "4UD-cXjaSD6p"
      }
    }
  ],
  "metadata": {
    "colab": {
      "provenance": []
    },
    "kernelspec": {
      "display_name": "Python 3",
      "name": "python3"
    },
    "language_info": {
      "name": "python"
    }
  },
  "nbformat": 4,
  "nbformat_minor": 0
}